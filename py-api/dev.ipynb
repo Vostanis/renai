{
 "cells": [
  {
   "cell_type": "code",
   "execution_count": 1,
   "metadata": {},
   "outputs": [
    {
     "ename": "ImportError",
     "evalue": "cannot import name 'Stock' from 'lib' (unknown location)",
     "output_type": "error",
     "traceback": [
      "\u001b[0;31m---------------------------------------------------------------------------\u001b[0m",
      "\u001b[0;31mImportError\u001b[0m                               Traceback (most recent call last)",
      "Cell \u001b[0;32mIn[1], line 1\u001b[0m\n\u001b[0;32m----> 1\u001b[0m \u001b[38;5;28;01mfrom\u001b[39;00m \u001b[38;5;21;01mlib\u001b[39;00m \u001b[38;5;28;01mimport\u001b[39;00m Stock\n\u001b[1;32m      2\u001b[0m \u001b[38;5;28;01mimport\u001b[39;00m \u001b[38;5;21;01mseaborn\u001b[39;00m \u001b[38;5;28;01mas\u001b[39;00m \u001b[38;5;21;01msns\u001b[39;00m\n\u001b[1;32m      3\u001b[0m \u001b[38;5;28;01mimport\u001b[39;00m \u001b[38;5;21;01mmatplotlib\u001b[39;00m\u001b[38;5;21;01m.\u001b[39;00m\u001b[38;5;21;01mpyplot\u001b[39;00m \u001b[38;5;28;01mas\u001b[39;00m \u001b[38;5;21;01mplt\u001b[39;00m\n",
      "\u001b[0;31mImportError\u001b[0m: cannot import name 'Stock' from 'lib' (unknown location)"
     ]
    }
   ],
   "source": [
    "from lib import Stock\n",
    "import seaborn as sns\n",
    "import matplotlib.pyplot as plt\n",
    "\n",
    "price = Stock(\"TSM\").price()\n",
    "\n",
    "# VISUALS\n",
    "sns.set_color_codes(palette='pastel')\n",
    "sns.set_style(\"darkgrid\")\n",
    "\n",
    "vol_std = price['volume'].std()\n",
    "vol_mean = price['volume'].mean()\n",
    "vol_median = price['volume'].median()\n",
    "pct_std = (price['pct'] * 100).std()\n",
    "pct_mean = (price['pct'] * 100).mean()\n",
    "pct_median = (price['pct'] * 100).median()\n",
    "\n",
    "# PRICE & VOLUME\n",
    "plt.figure(figsize=(20, 10))\n",
    "sns.lineplot(x=price.index, y=price['adj_close'], color='b')\n",
    "plt.ylim(bottom=0)\n",
    "plt.grid(axis='y')\n",
    "plt.xlabel('Date')\n",
    "plt.ylabel('Adj Close Price')\n",
    "\n",
    "# Creating a secondary y-axis for volume\n",
    "ax2 = plt.gca().twinx()\n",
    "# sns.lineplot(x=price.index, y=price['volume'], ax=ax2, color='grey', dashes=True, label='Volume')\n",
    "sns.barplot(x=price.index, y=price['volume'], ax=ax2, color='grey', label='Volume')\n",
    "ax2.set_ylim(0, price['volume'].max() * 3)\n",
    "ax2.axhline(y=vol_std*2, color='r', label=\"2nd Deviation\")\n",
    "\n",
    "# Setting labels\n",
    "plt.title('Adjusted Close Price and Volume Over Time')\n",
    "ax2.set_ylabel('Volume')\n",
    "plt.show()\n",
    "\n",
    "# \n",
    "plt.figure(figsize=(20, 10))\n",
    "sns.kdeplot(x=price['adj_close'], y=price['volume'], color='g', fill=True)\n",
    "sns.scatterplot(x=price['adj_close'], y=price['volume'], color='black', marker='.')\n",
    "plt.title(\"Volume vs. Price\")\n",
    "plt.ylabel(\"Volume\")\n",
    "plt.xlabel(\"Adj. Close Price\")\n",
    "most_recent_price = price['adj_close'].iloc[-1]\n",
    "most_recent_volume = price['volume'].iloc[-1]\n",
    "plt.scatter(most_recent_price, most_recent_volume, color='red', marker='x')  # Red dot\n",
    "plt.text(most_recent_price, most_recent_volume, price.index[-1].date(), color='red', va='bottom')\n",
    "plt.grid()\n",
    "plt.show()\n",
    "\n",
    "plt.figure(figsize=(20, 10))\n",
    "sns.kdeplot(x=price['pct'] * 100, y=price['volume'], color='g', fill=True)\n",
    "sns.scatterplot(x=price['pct'] * 100, y=price['volume'], color='black', marker='.')\n",
    "plt.title(\"Volume vs. Percentage Change\")\n",
    "plt.ylabel(\"Volume\")\n",
    "plt.xlabel(\"Percentage Change %\")\n",
    "most_recent_pct = price['pct'].iloc[-1] * 100\n",
    "most_recent_volume = price['volume'].iloc[-1]\n",
    "plt.scatter(most_recent_pct, most_recent_volume, color='red', marker='x')  # Red dot\n",
    "plt.text(most_recent_pct, most_recent_volume, price.index[-1].date(), color='red', va='bottom')\n",
    "plt.grid()\n",
    "plt.show()\n",
    "\n",
    "# DISTRIBUTION PLOTS\n",
    "fig, axs = plt.subplots(2, 1, figsize=(20, 10))\n",
    "\n",
    "sns.histplot(price['pct'] * 100, ax=axs[0])\n",
    "axs[0].set_title(\"Distribution of Percentage Change\")\n",
    "# axs[0].axvline(x=pct_mean, color='b')\n",
    "# axs[0].axvline(x=pct_median, color='g')\n",
    "# axs[0].axvline(x=pct_std, color='r')\n",
    "axs[0].axvline(x=pct_std*2, color='r')\n",
    "# axs[0].axvline(x=pct_std*3, color='r', linestyle='--')\n",
    "axs[0].grid()\n",
    "\n",
    "sns.histplot(price['volume'], ax=axs[1])\n",
    "axs[1].set_title(\"Distribution of Volume\")\n",
    "# axs[1].axvline(x=vol_mean, color='b')\n",
    "# axs[1].axvline(x=vol_median, color='g')\n",
    "# axs[1].axvline(x=vol_std, color='r')\n",
    "axs[1].axvline(x=vol_std*2, color='r')\n",
    "# axs[1].axvline(x=vol_std*3, color='yellow', linestyle='--')\n",
    "axs[1].grid()\n",
    "\n",
    "plt.tight_layout()\n",
    "plt.show()"
   ]
  },
  {
   "cell_type": "code",
   "execution_count": 1,
   "metadata": {},
   "outputs": [
    {
     "ename": "AttributeError",
     "evalue": "module 'lib' has no attribute 'Stock'",
     "output_type": "error",
     "traceback": [
      "\u001b[0;31m---------------------------------------------------------------------------\u001b[0m",
      "\u001b[0;31mAttributeError\u001b[0m                            Traceback (most recent call last)",
      "Cell \u001b[0;32mIn[1], line 3\u001b[0m\n\u001b[1;32m      1\u001b[0m \u001b[38;5;28;01mimport\u001b[39;00m \u001b[38;5;21;01mlib\u001b[39;00m\n\u001b[0;32m----> 3\u001b[0m df \u001b[38;5;241m=\u001b[39m \u001b[43mlib\u001b[49m\u001b[38;5;241;43m.\u001b[39;49m\u001b[43mStock\u001b[49m(\u001b[38;5;124m\"\u001b[39m\u001b[38;5;124mTSM\u001b[39m\u001b[38;5;124m\"\u001b[39m)\u001b[38;5;241m.\u001b[39mml()\n\u001b[1;32m      4\u001b[0m df\n",
      "\u001b[0;31mAttributeError\u001b[0m: module 'lib' has no attribute 'Stock'"
     ]
    }
   ],
   "source": [
    "import lib\n",
    "\n",
    "df = lib.Stock(\"TSM\").ml()\n",
    "df"
   ]
  },
  {
   "cell_type": "code",
   "execution_count": null,
   "metadata": {},
   "outputs": [],
   "source": []
  }
 ],
 "metadata": {
  "kernelspec": {
   "display_name": "Python 3",
   "language": "python",
   "name": "python3"
  },
  "language_info": {
   "codemirror_mode": {
    "name": "ipython",
    "version": 3
   },
   "file_extension": ".py",
   "mimetype": "text/x-python",
   "name": "python",
   "nbconvert_exporter": "python",
   "pygments_lexer": "ipython3",
   "version": "3.11.9"
  }
 },
 "nbformat": 4,
 "nbformat_minor": 2
}
